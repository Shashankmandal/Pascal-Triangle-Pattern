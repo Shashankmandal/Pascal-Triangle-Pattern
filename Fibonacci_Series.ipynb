{
 "cells": [
  {
   "cell_type": "markdown",
   "id": "5cb60fa8",
   "metadata": {},
   "source": [
    "# Fibonacci  Series"
   ]
  },
  {
   "cell_type": "code",
   "execution_count": 1,
   "id": "08c104d4",
   "metadata": {},
   "outputs": [
    {
     "name": "stdout",
     "output_type": "stream",
     "text": [
      "9\n",
      "0 1 1 2 3 5 8 13 21 "
     ]
    }
   ],
   "source": [
    "n=int(input())\n",
    "\n",
    "x=0\n",
    "y=1\n",
    "print(x,end=\" \")\n",
    "for i in range(1,n):\n",
    "    print(y,end=\" \")\n",
    "    x1=x+y\n",
    "    x=y\n",
    "    y=x1"
   ]
  },
  {
   "cell_type": "code",
   "execution_count": 1,
   "id": "366b0433",
   "metadata": {},
   "outputs": [
    {
     "data": {
      "text/plain": [
       "'Testing the pattern programme'"
      ]
     },
     "execution_count": 1,
     "metadata": {},
     "output_type": "execute_result"
    }
   ],
   "source": [
    "\"Testing the pattern programme\""
   ]
  },
  {
   "cell_type": "code",
   "execution_count": null,
   "id": "ad69733d",
   "metadata": {},
   "outputs": [],
   "source": []
  }
 ],
 "metadata": {
  "kernelspec": {
   "display_name": "Python 3 (ipykernel)",
   "language": "python",
   "name": "python3"
  },
  "language_info": {
   "codemirror_mode": {
    "name": "ipython",
    "version": 3
   },
   "file_extension": ".py",
   "mimetype": "text/x-python",
   "name": "python",
   "nbconvert_exporter": "python",
   "pygments_lexer": "ipython3",
   "version": "3.9.12"
  }
 },
 "nbformat": 4,
 "nbformat_minor": 5
}
