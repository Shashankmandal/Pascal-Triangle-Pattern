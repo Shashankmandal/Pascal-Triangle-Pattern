{
 "cells": [
  {
   "cell_type": "code",
   "execution_count": 4,
   "id": "73399005",
   "metadata": {},
   "outputs": [
    {
     "name": "stdout",
     "output_type": "stream",
     "text": [
      "Number of rows you want pattern to be displayed 5\n",
      "    1 \n",
      "   1 1 \n",
      "  1 2 1 \n",
      " 1 3 3 1 \n",
      "1 4 6 4 1 \n"
     ]
    }
   ],
   "source": [
    "x=int(input(\"Number of rows you want pattern to be displayed \"))\n",
    "y=[[] for i in range(x)]\n",
    "for i in range(x):\n",
    "    for j in range(i+1):\n",
    "        if j==0:\n",
    "            y[i].append(1)\n",
    "        elif i==j:\n",
    "            y[i].append(1)\n",
    "        else:\n",
    "            y[i].append(y[i-1][j]+y[i-1][j-1])\n",
    "            \n",
    "for i in range(x):\n",
    "    for k in range(x-i-1):\n",
    "        print(\" \",end=\"\")\n",
    "    for j in range(i+1):\n",
    "        print(y[i][j],end=\" \")\n",
    "        \n",
    "    print()"
   ]
  },
  {
   "cell_type": "code",
   "execution_count": null,
   "id": "065199e8",
   "metadata": {},
   "outputs": [],
   "source": []
  }
 ],
 "metadata": {
  "kernelspec": {
   "display_name": "Python 3 (ipykernel)",
   "language": "python",
   "name": "python3"
  },
  "language_info": {
   "codemirror_mode": {
    "name": "ipython",
    "version": 3
   },
   "file_extension": ".py",
   "mimetype": "text/x-python",
   "name": "python",
   "nbconvert_exporter": "python",
   "pygments_lexer": "ipython3",
   "version": "3.9.12"
  }
 },
 "nbformat": 4,
 "nbformat_minor": 5
}
