{
 "cells": [
  {
   "cell_type": "markdown",
   "id": "1213e377",
   "metadata": {},
   "source": [
    "# Pattern 1"
   ]
  },
  {
   "cell_type": "code",
   "execution_count": 3,
   "id": "f1332789",
   "metadata": {},
   "outputs": [
    {
     "name": "stdout",
     "output_type": "stream",
     "text": [
      "5\n",
      "\n",
      "1\n",
      "12\n",
      "123\n",
      "1234\n",
      "12345\n"
     ]
    }
   ],
   "source": [
    "x=int(input())\n",
    "print()\n",
    "for i in range(1,x+1):\n",
    "    for j in range(1,i+1):\n",
    "        print(j,end=\"\")\n",
    "        \n",
    "    print()"
   ]
  },
  {
   "cell_type": "markdown",
   "id": "4d0ff5d0",
   "metadata": {},
   "source": [
    "# Pattern 2"
   ]
  },
  {
   "cell_type": "code",
   "execution_count": 4,
   "id": "bcd9f08e",
   "metadata": {},
   "outputs": [
    {
     "name": "stdout",
     "output_type": "stream",
     "text": [
      "5\n",
      "\n",
      "1\n",
      "21\n",
      "321\n",
      "4321\n",
      "54321\n"
     ]
    }
   ],
   "source": [
    "x=int(input())\n",
    "print()\n",
    "for i in range(1,x+1):\n",
    "    for j in range(i,0,-1):\n",
    "        print(j,end=\"\")\n",
    "        \n",
    "    print()"
   ]
  },
  {
   "cell_type": "markdown",
   "id": "90f36736",
   "metadata": {},
   "source": [
    "# Pattern 3"
   ]
  },
  {
   "cell_type": "code",
   "execution_count": 5,
   "id": "4bf0b3a0",
   "metadata": {},
   "outputs": [
    {
     "name": "stdout",
     "output_type": "stream",
     "text": [
      "5\n",
      "\n",
      "5\n",
      "54\n",
      "543\n",
      "5432\n",
      "54321\n"
     ]
    }
   ],
   "source": [
    "x=int(input())\n",
    "print()\n",
    "for i in range(x,0,-1):\n",
    "    for j in range(x,i-1,-1):\n",
    "        print(j,end=\"\")\n",
    "    \n",
    "    print()"
   ]
  },
  {
   "cell_type": "markdown",
   "id": "aa70b3fa",
   "metadata": {},
   "source": [
    "# Pattern 4"
   ]
  },
  {
   "cell_type": "code",
   "execution_count": 6,
   "id": "b634c515",
   "metadata": {},
   "outputs": [
    {
     "name": "stdout",
     "output_type": "stream",
     "text": [
      "5\n",
      "\n",
      "54321\n",
      "5432\n",
      "543\n",
      "54\n",
      "5\n"
     ]
    }
   ],
   "source": [
    "x=int(input())\n",
    "print()\n",
    "for i in range(x):\n",
    "    for j in range(x,i,-1):\n",
    "        print(j,end=\"\")\n",
    "        \n",
    "    print()"
   ]
  },
  {
   "cell_type": "markdown",
   "id": "78834223",
   "metadata": {},
   "source": [
    "# Pattern 5"
   ]
  },
  {
   "cell_type": "code",
   "execution_count": 7,
   "id": "6103239b",
   "metadata": {},
   "outputs": [
    {
     "name": "stdout",
     "output_type": "stream",
     "text": [
      "5\n",
      "\n",
      "12345\n",
      "1234\n",
      "123\n",
      "12\n",
      "1\n"
     ]
    }
   ],
   "source": [
    "x=int(input())\n",
    "print()\n",
    "for i in range(x,0,-1):\n",
    "    for j in range(1,i+1):\n",
    "        print(j,end=\"\")\n",
    "        \n",
    "    print()"
   ]
  },
  {
   "cell_type": "markdown",
   "id": "9bdee8de",
   "metadata": {},
   "source": [
    "# Pattern 6"
   ]
  },
  {
   "cell_type": "code",
   "execution_count": 8,
   "id": "f10038d5",
   "metadata": {},
   "outputs": [
    {
     "name": "stdout",
     "output_type": "stream",
     "text": [
      "5\n",
      "\n",
      "54321\n",
      "4321\n",
      "321\n",
      "21\n",
      "1\n"
     ]
    }
   ],
   "source": [
    "x=int(input())\n",
    "print()\n",
    "for i in range(x,0,-1):\n",
    "    for j in range(i,0,-1):\n",
    "        print(j,end=\"\")\n",
    "        \n",
    "    print()"
   ]
  },
  {
   "cell_type": "markdown",
   "id": "2f497511",
   "metadata": {},
   "source": [
    "# Pattern 7"
   ]
  },
  {
   "cell_type": "code",
   "execution_count": 9,
   "id": "1ecc5b35",
   "metadata": {},
   "outputs": [
    {
     "name": "stdout",
     "output_type": "stream",
     "text": [
      "5\n",
      "\n",
      "1\n",
      "22\n",
      "333\n",
      "4444\n",
      "55555\n"
     ]
    }
   ],
   "source": [
    "x=int(input())\n",
    "print()\n",
    "for i in range(1,x+1):\n",
    "    for j in range(i):\n",
    "        print(i,end=\"\")\n",
    "        \n",
    "    print()"
   ]
  },
  {
   "cell_type": "markdown",
   "id": "228cf95e",
   "metadata": {},
   "source": [
    "# Pattern 8"
   ]
  },
  {
   "cell_type": "code",
   "execution_count": 10,
   "id": "aaaa21b0",
   "metadata": {},
   "outputs": [
    {
     "name": "stdout",
     "output_type": "stream",
     "text": [
      "5\n",
      "\n",
      "5\n",
      "44\n",
      "333\n",
      "2222\n",
      "11111\n"
     ]
    }
   ],
   "source": [
    "x=int(input())\n",
    "print()\n",
    "for i in range(x,0,-1):\n",
    "    for j in range(x,i-1,-1):\n",
    "        print(i,end=\"\")\n",
    "        \n",
    "    print()"
   ]
  },
  {
   "cell_type": "markdown",
   "id": "03e669ed",
   "metadata": {},
   "source": [
    "# Pattern 9"
   ]
  },
  {
   "cell_type": "code",
   "execution_count": 11,
   "id": "61523f8c",
   "metadata": {},
   "outputs": [
    {
     "name": "stdout",
     "output_type": "stream",
     "text": [
      "5\n",
      "\n",
      "55555\n",
      "4444\n",
      "333\n",
      "22\n",
      "1\n"
     ]
    }
   ],
   "source": [
    "x=int(input())\n",
    "print()\n",
    "for i in range(x,0,-1):\n",
    "    for j in range(i,0,-1):\n",
    "        print(i,end=\"\")\n",
    "        \n",
    "    print()"
   ]
  },
  {
   "cell_type": "markdown",
   "id": "b6aec642",
   "metadata": {},
   "source": [
    "# Pattern 10"
   ]
  },
  {
   "cell_type": "code",
   "execution_count": 12,
   "id": "e1ddcb22",
   "metadata": {},
   "outputs": [
    {
     "name": "stdout",
     "output_type": "stream",
     "text": [
      "5\n",
      "\n",
      "11111\n",
      "2222\n",
      "333\n",
      "44\n",
      "5\n"
     ]
    }
   ],
   "source": [
    "x=int(input())\n",
    "print()\n",
    "for i in range(1,x+1):\n",
    "    for j in range(i,x+1):\n",
    "        print(i,end=\"\")\n",
    "        \n",
    "    print()"
   ]
  },
  {
   "cell_type": "markdown",
   "id": "2429496a",
   "metadata": {},
   "source": [
    "# Pattern 11"
   ]
  },
  {
   "cell_type": "code",
   "execution_count": 13,
   "id": "86efdbde",
   "metadata": {},
   "outputs": [
    {
     "name": "stdout",
     "output_type": "stream",
     "text": [
      "5\n",
      "\n",
      "    1\n",
      "   12\n",
      "  123\n",
      " 1234\n",
      "12345\n"
     ]
    }
   ],
   "source": [
    "x=int(input())\n",
    "print()\n",
    "for i in range(1,x+1):\n",
    "    for k in range(x-i):\n",
    "        print(\" \",end=\"\")\n",
    "    for j in range(1,i+1):\n",
    "        print(j,end=\"\")\n",
    "                \n",
    "    print()"
   ]
  },
  {
   "cell_type": "markdown",
   "id": "8cf9be2f",
   "metadata": {},
   "source": [
    "# Pattern 12"
   ]
  },
  {
   "cell_type": "code",
   "execution_count": 14,
   "id": "153aa0bc",
   "metadata": {},
   "outputs": [
    {
     "name": "stdout",
     "output_type": "stream",
     "text": [
      "5\n",
      "\n",
      "    1\n",
      "   21\n",
      "  321\n",
      " 4321\n",
      "54321\n"
     ]
    }
   ],
   "source": [
    "x=int(input())\n",
    "print()\n",
    "for i in range(1,x+1):\n",
    "    for k in range(x-i):\n",
    "        print(\" \",end=\"\")\n",
    "    for j in range(i,0,-1):\n",
    "        print(j,end=\"\")\n",
    "    print()"
   ]
  },
  {
   "cell_type": "markdown",
   "id": "a91e4231",
   "metadata": {},
   "source": [
    "# Pattern 13"
   ]
  },
  {
   "cell_type": "code",
   "execution_count": 15,
   "id": "604f6d6d",
   "metadata": {},
   "outputs": [
    {
     "name": "stdout",
     "output_type": "stream",
     "text": [
      "5\n",
      "\n",
      "    1\n",
      "   22\n",
      "  333\n",
      " 4444\n",
      "55555\n"
     ]
    }
   ],
   "source": [
    "x=int(input())\n",
    "print()\n",
    "for i in range(1,x+1):\n",
    "    for k in range(x-i):\n",
    "        print(\" \",end=\"\")\n",
    "    for j in range(i,0,-1):\n",
    "        print(i,end=\"\")\n",
    "        \n",
    "    print()"
   ]
  },
  {
   "cell_type": "markdown",
   "id": "2231e432",
   "metadata": {},
   "source": [
    "# Pattern 14"
   ]
  },
  {
   "cell_type": "code",
   "execution_count": 16,
   "id": "a4e86bfe",
   "metadata": {},
   "outputs": [
    {
     "name": "stdout",
     "output_type": "stream",
     "text": [
      "5\n",
      "\n",
      "    5\n",
      "   44\n",
      "  333\n",
      " 2222\n",
      "11111\n"
     ]
    }
   ],
   "source": [
    "x=int(input())\n",
    "print()\n",
    "for i in range(x,0,-1):\n",
    "    for k in range(i-1):\n",
    "        print(\" \",end=\"\")\n",
    "    for j in range(x,i-1,-1):\n",
    "        print(i,end=\"\")\n",
    "        \n",
    "    print()"
   ]
  },
  {
   "cell_type": "markdown",
   "id": "4dd0bb0c",
   "metadata": {},
   "source": [
    "# Pattern 15"
   ]
  },
  {
   "cell_type": "code",
   "execution_count": 18,
   "id": "89cc6ef4",
   "metadata": {},
   "outputs": [
    {
     "name": "stdout",
     "output_type": "stream",
     "text": [
      "5\n",
      "\n",
      "    5\n",
      "   54\n",
      "  543\n",
      " 5432\n",
      "54321\n"
     ]
    }
   ],
   "source": [
    "x=int(input())\n",
    "print()\n",
    "for i in range(x,0,-1):\n",
    "    for k in range(i-1):\n",
    "        print(\" \",end=\"\")\n",
    "    for j in range(x,i-1,-1):\n",
    "        print(j,end=\"\")\n",
    "    \n",
    "    print()"
   ]
  },
  {
   "cell_type": "markdown",
   "id": "90f0efa8",
   "metadata": {},
   "source": [
    "# Pattern 16"
   ]
  },
  {
   "cell_type": "code",
   "execution_count": 19,
   "id": "9cc526c0",
   "metadata": {},
   "outputs": [
    {
     "name": "stdout",
     "output_type": "stream",
     "text": [
      "5\n",
      "\n",
      "    5\n",
      "   45\n",
      "  345\n",
      " 2345\n",
      "12345\n"
     ]
    }
   ],
   "source": [
    "x=int(input())\n",
    "print()\n",
    "for i in range(x,0,-1):\n",
    "    for k in range(i-1):\n",
    "        print(\" \",end=\"\")\n",
    "    for j in range(i,x+1):\n",
    "        print(j,end=\"\")\n",
    "        \n",
    "    print()"
   ]
  },
  {
   "cell_type": "markdown",
   "id": "4394e34f",
   "metadata": {},
   "source": [
    "# Pattern 17"
   ]
  },
  {
   "cell_type": "code",
   "execution_count": 20,
   "id": "3a4c6667",
   "metadata": {},
   "outputs": [
    {
     "name": "stdout",
     "output_type": "stream",
     "text": [
      "5\n",
      "\n",
      "    1\n",
      "   12\n",
      "  123\n",
      " 1234\n",
      "12345\n"
     ]
    }
   ],
   "source": [
    "x=int(input())\n",
    "print()\n",
    "for i in range(1,x+1):\n",
    "    for k in range(x-i):\n",
    "        print(\" \",end=\"\")\n",
    "    for j in range(1,i+1):\n",
    "        print(j,end=\"\")\n",
    "                \n",
    "    print()"
   ]
  },
  {
   "cell_type": "markdown",
   "id": "b2266a16",
   "metadata": {},
   "source": [
    "# Pattern 18"
   ]
  },
  {
   "cell_type": "code",
   "execution_count": 21,
   "id": "e2f14562",
   "metadata": {},
   "outputs": [
    {
     "name": "stdout",
     "output_type": "stream",
     "text": [
      "5\n",
      "\n",
      "    1\n",
      "   121\n",
      "  12321\n",
      " 1234321\n",
      "123454321\n"
     ]
    }
   ],
   "source": [
    "x=int(input())\n",
    "print()\n",
    "for i in range(1,x+1):\n",
    "    for k in range(x-i):\n",
    "        print(\" \",end=\"\")\n",
    "    for  j in range(1,i):\n",
    "        print(j,end=\"\")\n",
    "    for j in range(i,0,-1):\n",
    "        print(j,end=\"\")\n",
    "        \n",
    "    print()"
   ]
  }
 ],
 "metadata": {
  "kernelspec": {
   "display_name": "Python 3 (ipykernel)",
   "language": "python",
   "name": "python3"
  },
  "language_info": {
   "codemirror_mode": {
    "name": "ipython",
    "version": 3
   },
   "file_extension": ".py",
   "mimetype": "text/x-python",
   "name": "python",
   "nbconvert_exporter": "python",
   "pygments_lexer": "ipython3",
   "version": "3.9.12"
  }
 },
 "nbformat": 4,
 "nbformat_minor": 5
}
